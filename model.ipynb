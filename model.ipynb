{
 "cells": [
  {
   "cell_type": "code",
   "execution_count": 1,
   "metadata": {
    "collapsed": false
   },
   "outputs": [
    {
     "name": "stderr",
     "output_type": "stream",
     "text": [
      "Using TensorFlow backend.\n"
     ]
    }
   ],
   "source": [
    "# imports\n",
    "import csv\n",
    "import numpy as np\n",
    "import matplotlib.pyplot as plt\n",
    "import matplotlib.image as mpimg\n",
    "import cv2\n",
    "from sklearn.model_selection import train_test_split\n",
    "from keras.models import Sequential\n",
    "from keras.layers import Activation, MaxPooling2D, Dense, Dropout, Flatten, Lambda, ELU\n",
    "from keras.layers.convolutional import Convolution2D\n",
    "from keras.optimizers import Adam, SGD\n",
    "import json\n",
    "from keras.callbacks import ModelCheckpoint"
   ]
  },
  {
   "cell_type": "code",
   "execution_count": 2,
   "metadata": {
    "collapsed": false
   },
   "outputs": [
    {
     "name": "stdout",
     "output_type": "stream",
     "text": [
      "\n",
      "Loaded 768 images - 768 steering angles from csv file driving_log.csv\n"
     ]
    }
   ],
   "source": [
    "# read data from csv file\n",
    "\n",
    "# more or less log outputs\n",
    "debug = True \n",
    "test_data = False\n",
    "\n",
    "if (test_data):\n",
    "    csv_file = 'driving_log_test.csv'\n",
    "else: \n",
    "    csv_file = 'driving_log.csv'\n",
    "\n",
    "###\n",
    "# Reads data from the csv file with the collected data\n",
    "# Returns two arrays: images and angle (steering angle info)\n",
    "###\n",
    "def read_data_from_csv_file(csv_file):\n",
    "    images, steering = [], []\n",
    "    with open(csv_file) as csvfile:\n",
    "        reader = csv.DictReader(csvfile)\n",
    "        degrees = 35\n",
    "        correction = degrees *0.01\n",
    "        for row in reader:\n",
    "            steering_value = float(row['steering'])\n",
    "            if (steering_value > 0.35 or steering_value < -0.35):\n",
    "                images.append(row['center'])\n",
    "                steering.append(steering_value)\n",
    "                # adding left camera images\n",
    "                images.append(row['left'].strip())\n",
    "                steering.append(steering_value + correction)\n",
    "                # adding right camera images\n",
    "                images.append(row['right'].strip())\n",
    "                steering.append(steering_value - correction)\n",
    "    return images, steering\n",
    "    \n",
    "\n",
    "    \n",
    "images_raw, steering_raw = read_data_from_csv_file(csv_file)\n",
    "if (debug):\n",
    "    print(\"\\nLoaded\",len(images_raw),\"images -\",len(steering_raw),\"steering angles from csv file\",csv_file)"
   ]
  },
  {
   "cell_type": "code",
   "execution_count": 3,
   "metadata": {
    "collapsed": false
   },
   "outputs": [
    {
     "data": {
      "image/png": "[encoded data removed]",
      "text/plain": [
       "<matplotlib.figure.Figure at 0x1180c3a20>"
      ]
     },
     "metadata": {},
     "output_type": "display_data"
    }
   ],
   "source": [
    "# distribution of loaded data\n",
    "plt.hist(steering_raw, bins=20)\n",
    "plt.title(\"Raw data steering angles\")\n",
    "plt.xlabel(\"Angle\")\n",
    "plt.ylabel(\"Frequency\")\n",
    "plt.show()"
   ]
  },
  {
   "cell_type": "code",
   "execution_count": 4,
   "metadata": {
    "collapsed": false
   },
   "outputs": [
    {
     "name": "stdout",
     "output_type": "stream",
     "text": [
      "Recorded images 768\n",
      "Training images 768\n",
      "\n",
      "Processed data: resized and trimmed\n",
      "images_processed length 768 shape (768, 45, 160, 3)\n",
      "steering_processed length 768 shape (768, 1)\n"
     ]
    }
   ],
   "source": [
    "###\n",
    "# Converts the images and steering data into\n",
    "# training data and labels np arrays\n",
    "###\n",
    "def process_data(images, steering):\n",
    "    show_images = False\n",
    "    x,y = [],[]\n",
    "    # process image\n",
    "    current_images = len(images)\n",
    "    if (debug):\n",
    "        print(\"Recorded images\", current_images)\n",
    "    for i in range(current_images):\n",
    "        # take a peek at the images printing out some stats and plotting\n",
    "        image = mpimg.imread(images[i])\n",
    "        if (show_images):\n",
    "            print('Image',images[i],'dimensions:', image.shape,\"steering\",steering[i])\n",
    "        #    plt.imshow(image)\n",
    "        #    plt.show()\n",
    "        img = cv2.imread(images[i]) # reads BGR format\n",
    "        img = cv2.cvtColor(img, cv2.COLOR_BGR2RGB) # back to RGB format\n",
    "        # adjust brightness with random intensity to simulate driving in different lighting conditions \n",
    "        img = cv2.cvtColor(img,cv2.COLOR_RGB2HSV)\n",
    "        random_bright = .25+np.random.uniform()\n",
    "        #print(random_bright)\n",
    "        img[:,:,2] = img[:,:,2]*random_bright\n",
    "        img = cv2.cvtColor(img,cv2.COLOR_HSV2RGB)\n",
    "        # crop image to get rid of unwanted pixels, like trees, car bonnet, etc\n",
    "        crop_img = img[40:130]\n",
    "        #if (show_images):\n",
    "        #    print('Cropped image dimensions:', crop_img.shape,'Steering:',steering[i])\n",
    "        #    plt.imshow(crop_img)\n",
    "        #    plt.show()\n",
    "        # resize image by half\n",
    "        height, width = crop_img.shape[:2]\n",
    "        new_width = int(width/2)\n",
    "        new_height = int(height/2)\n",
    "        resized_image = cv2.resize(crop_img,(new_width, new_height),fx=2, fy=2, interpolation = cv2.INTER_CUBIC)\n",
    "        if (show_images):\n",
    "            print('Resized image dimesions:', resized_image.shape)\n",
    "            plt.imshow(resized_image)\n",
    "            plt.show()\n",
    "        # crop image to remove non-road information\n",
    "        #crop_img = resized_image[30:80, 0:160] # Crop from startY, endY, startX, endX\n",
    "        \n",
    "        #images[i] = resized_image\n",
    "        flip_prob = np.random.random()\n",
    "        if flip_prob > 0.5:\n",
    "            # flip the image and reverse the steering angle\n",
    "            flipped_image = cv2.flip(resized_image, 1)\n",
    "            flipped_steering = steering[i]*(-1)\n",
    "            images[i] = flipped_image\n",
    "            steering[i] = flipped_steering\n",
    "            if (show_images):\n",
    "                print('Flipped image dimensions:', flipped_image.shape,'Steering:',flipped_steering)\n",
    "                plt.imshow(flipped_image)\n",
    "                plt.show()\n",
    "        else :\n",
    "            images[i] = resized_image\n",
    "        if i > 40:\n",
    "            show_images = False\n",
    "    if (debug):\n",
    "        print(\"Training images\", len(images))\n",
    "    x = np.array(images)\n",
    "    #x = np.vstack(images)\n",
    "    y = np.vstack(steering)\n",
    "    return x,y\n",
    "\n",
    "# do the tranformations: resize, trim, normalize\n",
    "images_processed,steering_processed = process_data(images_raw, steering_raw)\n",
    "if (debug):\n",
    "    print(\"\\nProcessed data: resized and trimmed\")\n",
    "    print(\"images_processed length\",len(images_processed),\"shape\",images_processed.shape)\n",
    "    print(\"steering_processed length\",len(steering_processed),\"shape\",steering_processed.shape)"
   ]
  },
  {
   "cell_type": "code",
   "execution_count": 5,
   "metadata": {
    "collapsed": false
   },
   "outputs": [
    {
     "data": {
      "image/png": "[encoded data removed]",
      "text/plain": [
       "<matplotlib.figure.Figure at 0x1028c6cf8>"
      ]
     },
     "metadata": {},
     "output_type": "display_data"
    }
   ],
   "source": [
    "# distribution of processed data\n",
    "plt.hist(steering_processed, bins=20)\n",
    "plt.title(\"Processed data steering angles\")\n",
    "plt.xlabel(\"Angle\")\n",
    "plt.ylabel(\"Frequency\")\n",
    "plt.show()"
   ]
  },
  {
   "cell_type": "code",
   "execution_count": 6,
   "metadata": {
    "collapsed": false
   },
   "outputs": [
    {
     "name": "stdout",
     "output_type": "stream",
     "text": [
      "\n",
      "Data to array\n",
      "x length 768 shape (768, 45, 160, 3)\n",
      "y length 768 shape (768, 1)\n"
     ]
    }
   ],
   "source": [
    "# turn into np array\n",
    "x = np.array(images_processed) \n",
    "y = np.vstack(steering_processed)\n",
    "\n",
    "if (debug):\n",
    "    print(\"\\nData to array\")\n",
    "    print(\"x length\",len(x),\"shape\",x.shape)\n",
    "    print(\"y length\",len(y),\"shape\",y.shape)"
   ]
  },
  {
   "cell_type": "code",
   "execution_count": 7,
   "metadata": {
    "collapsed": false
   },
   "outputs": [
    {
     "name": "stdout",
     "output_type": "stream",
     "text": [
      "\n",
      "Split the data into training/testing:\n",
      "- Training images length 614 shape (614, 45, 160, 3)\n",
      "- Training labels length 614 shape (614, 1)\n",
      "- Validation images length 154 shape (154, 45, 160, 3)\n",
      "- Validation labels length 154 shape (154, 1)\n"
     ]
    }
   ],
   "source": [
    "###\n",
    "# Splits data into training and test sets\n",
    "###\n",
    "def split_data(x,y):\n",
    "    # Split into train and test data (20%)\n",
    "    x_train, x_val, y_train, y_val = train_test_split(x, y, test_size=0.20, random_state=3234)\n",
    "    return x_train, x_val, y_train, y_val\n",
    "\n",
    "# split data into training and data sets    \n",
    "train_features, val_features, train_labels, val_labels = split_data(x, y)\n",
    "if (debug):\n",
    "    print(\"\\nSplit the data into training/testing:\")\n",
    "    print(\"- Training images length\", len(train_features),\"shape\",train_features.shape)\n",
    "    print(\"- Training labels length\", len(train_labels),\"shape\",train_labels.shape)\n",
    "    print(\"- Validation images length\", len(val_features),\"shape\",val_features.shape)\n",
    "    print(\"- Validation labels length\", len(val_labels),\"shape\",val_labels.shape)"
   ]
  },
  {
   "cell_type": "code",
   "execution_count": 8,
   "metadata": {
    "collapsed": false
   },
   "outputs": [
    {
     "name": "stdout",
     "output_type": "stream",
     "text": [
      "Shuffled the data\n"
     ]
    }
   ],
   "source": [
    "# Shuffle the data\n",
    "def unison_shuffled_copies(a, b):\n",
    "    assert len(a) == len(b)\n",
    "    p = np.random.permutation(len(a))\n",
    "    return a[p], b[p]\n",
    "\n",
    "train_features, train_labels = unison_shuffled_copies(train_features, train_labels)\n",
    "val_features, val_labels = unison_shuffled_copies(val_features, val_labels)\n",
    "print(\"Shuffled the data\")"
   ]
  },
  {
   "cell_type": "code",
   "execution_count": 9,
   "metadata": {
    "collapsed": false
   },
   "outputs": [
    {
     "name": "stdout",
     "output_type": "stream",
     "text": [
      "Model setup\n"
     ]
    }
   ],
   "source": [
    "# define model arquitecture\n",
    "# modified version of https://raw.githubusercontent.com/commaai/research/master/train_steering_model.py\n",
    "def get_model(time_len=1):\n",
    "    channels, height, width = 3, 45, 160  # image format\n",
    "    \n",
    "    model = Sequential()\n",
    "    model.add(Lambda(lambda x: x/255. - 0.5,\n",
    "            input_shape=(height, width, channels),\n",
    "            output_shape=(height, width, channels)))\n",
    "\n",
    "    #model.add(Convolution2D(32, 3, 3, input_shape=(height, width, channels)))\n",
    "    model.add(Convolution2D(32, 3, 3))\n",
    "    model.add(Activation('relu'))\n",
    "    model.add(MaxPooling2D(pool_size=(2,2)))\n",
    "              \n",
    "    model.add(Convolution2D(32, 3, 3))\n",
    "    model.add(Activation('relu'))\n",
    "    model.add(MaxPooling2D(pool_size=(2,2)))\n",
    "              \n",
    "    model.add(Convolution2D(64, 3, 3))\n",
    "    model.add(Activation('relu'))\n",
    "    model.add(MaxPooling2D(pool_size=(2,2)))\n",
    "    # the model so far outputs 3D feature maps (height, width, features)\n",
    "    model.add(Flatten()) # converts 3D feature maps into 1D vectors\n",
    "    model.add(Dense(64))\n",
    "    model.add(Activation('relu'))\n",
    "    model.add(Dropout(0.5))\n",
    "    model.add(Dense(1))\n",
    "              \n",
    "    model.compile(optimizer=\"adam\", loss=\"mse\", metrics=['mse'])\n",
    "\n",
    "    return model\n",
    "\n",
    "if(debug):\n",
    "    print(\"Model setup\")"
   ]
  },
  {
   "cell_type": "code",
   "execution_count": 10,
   "metadata": {
    "collapsed": false
   },
   "outputs": [
    {
     "name": "stdout",
     "output_type": "stream",
     "text": [
      "Feed data generator setup\n",
      "test_batch_images shape (20, 45, 160, 3)\n",
      "test_batch_labels shape (20, 1)\n"
     ]
    }
   ],
   "source": [
    "# write generator to feed data into the model\n",
    "def feed_data_generator (image_train, labels_train, batch_size):\n",
    "    total = (len(y) // batch_size ) * batch_size\n",
    "    # number of images in the training set\n",
    "    num_images = len(image_train)\n",
    "    # create a random index\n",
    "    random_index = np.random.choice(num_images, size=batch_size, replace=False)\n",
    "    while True:\n",
    "        # select the random images and labels with this random index\n",
    "        features_batch = image_train[random_index,:]\n",
    "        labels_batch = labels_train[random_index]  \n",
    "        yield features_batch, labels_batch\n",
    "\n",
    "if(debug):\n",
    "    print(\"Feed data generator setup\")\n",
    "\n",
    "## Generator test\n",
    "my_generator = feed_data_generator(train_features, train_labels, 20)\n",
    "test_batch_images, test_batch_labels = next(my_generator)\n",
    "print(\"test_batch_images shape\",test_batch_images.shape)\n",
    "print(\"test_batch_labels shape\",test_batch_labels.shape)"
   ]
  },
  {
   "cell_type": "code",
   "execution_count": 11,
   "metadata": {
    "collapsed": false
   },
   "outputs": [
    {
     "name": "stdout",
     "output_type": "stream",
     "text": [
      "Samples per epoch 1024\n",
      "Validation samples per epoch 256\n",
      "Epoch 1/10\n",
      " 896/1024 [=========================>....] - ETA: 1s - loss: 0.2516 - mean_squared_error: 0.2516Epoch 00000: val_loss improved from inf to 0.23223, saving model to ./model.h5\n",
      "1024/1024 [==============================] - 15s - loss: 0.2484 - mean_squared_error: 0.2484 - val_loss: 0.2322 - val_mean_squared_error: 0.2322\n",
      "Epoch 2/10\n",
      " 896/1024 [=========================>....] - ETA: 1s - loss: 0.1709 - mean_squared_error: 0.1709Epoch 00001: val_loss improved from 0.23223 to 0.15598, saving model to ./model.h5\n",
      "1024/1024 [==============================] - 15s - loss: 0.1676 - mean_squared_error: 0.1676 - val_loss: 0.1560 - val_mean_squared_error: 0.1560\n",
      "Epoch 3/10\n",
      " 896/1024 [=========================>....] - ETA: 1s - loss: 0.1272 - mean_squared_error: 0.1272Epoch 00002: val_loss improved from 0.15598 to 0.12611, saving model to ./model.h5\n",
      "1024/1024 [==============================] - 15s - loss: 0.1234 - mean_squared_error: 0.1234 - val_loss: 0.1261 - val_mean_squared_error: 0.1261\n",
      "Epoch 4/10\n",
      " 896/1024 [=========================>....] - ETA: 1s - loss: 0.0968 - mean_squared_error: 0.0968Epoch 00003: val_loss improved from 0.12611 to 0.11262, saving model to ./model.h5\n",
      "1024/1024 [==============================] - 13s - loss: 0.0961 - mean_squared_error: 0.0961 - val_loss: 0.1126 - val_mean_squared_error: 0.1126\n",
      "Epoch 5/10\n",
      " 896/1024 [=========================>....] - ETA: 1s - loss: 0.0803 - mean_squared_error: 0.0803Epoch 00004: val_loss improved from 0.11262 to 0.10588, saving model to ./model.h5\n",
      "1024/1024 [==============================] - 12s - loss: 0.0787 - mean_squared_error: 0.0787 - val_loss: 0.1059 - val_mean_squared_error: 0.1059\n",
      "Epoch 6/10\n",
      " 896/1024 [=========================>....] - ETA: 1s - loss: 0.0674 - mean_squared_error: 0.0674Epoch 00005: val_loss did not improve\n",
      "1024/1024 [==============================] - 11s - loss: 0.0677 - mean_squared_error: 0.0677 - val_loss: 0.1077 - val_mean_squared_error: 0.1077\n",
      "Epoch 7/10\n",
      " 896/1024 [=========================>....] - ETA: 1s - loss: 0.0598 - mean_squared_error: 0.0598Epoch 00006: val_loss did not improve\n",
      "1024/1024 [==============================] - 10s - loss: 0.0600 - mean_squared_error: 0.0600 - val_loss: 0.1200 - val_mean_squared_error: 0.1200\n",
      "Epoch 8/10\n",
      " 896/1024 [=========================>....] - ETA: 1s - loss: 0.0531 - mean_squared_error: 0.0531Epoch 00007: val_loss did not improve\n",
      "1024/1024 [==============================] - 10s - loss: 0.0528 - mean_squared_error: 0.0528 - val_loss: 0.1125 - val_mean_squared_error: 0.1125\n",
      "Epoch 9/10\n",
      " 896/1024 [=========================>....] - ETA: 1s - loss: 0.0440 - mean_squared_error: 0.0440Epoch 00008: val_loss did not improve\n",
      "1024/1024 [==============================] - 12s - loss: 0.0437 - mean_squared_error: 0.0437 - val_loss: 0.1117 - val_mean_squared_error: 0.1117\n",
      "Epoch 10/10\n",
      " 896/1024 [=========================>....] - ETA: 1s - loss: 0.0360 - mean_squared_error: 0.0360Epoch 00009: val_loss did not improve\n",
      "1024/1024 [==============================] - 14s - loss: 0.0356 - mean_squared_error: 0.0356 - val_loss: 0.1101 - val_mean_squared_error: 0.1101\n",
      "154/154 [==============================] - 0s     \n",
      "loss : 0.101714489522\n",
      "mean_squared_error : 0.101714489522\n"
     ]
    }
   ],
   "source": [
    "# train the model\n",
    "\n",
    "epochs = 10\n",
    "if (test_data):\n",
    "    batch_size = 20\n",
    "    samples_per_epoch = batch_size\n",
    "    nb_val_samples = batch_size\n",
    "else:\n",
    "    batch_size = 128\n",
    "    samples_per_epoch = ((len(train_labels) // batch_size ) * batch_size)*2\n",
    "    nb_val_samples = ((len(val_labels) // batch_size ) * batch_size)*2\n",
    "    \n",
    "print(\"Samples per epoch\",samples_per_epoch)\n",
    "print(\"Validation samples per epoch\",nb_val_samples)\n",
    "\n",
    "def train_model(epochs, batch_size, samples_per_epoch, nb_val_samples):\n",
    "    #model.summary()\n",
    "    checkpoint = ModelCheckpoint(filepath=\"./model.h5\", verbose=1, save_best_only=True)\n",
    "    callbacks_list = [checkpoint]\n",
    "    history = model.fit_generator(\n",
    "        feed_data_generator(train_features, train_labels, batch_size),\n",
    "        samples_per_epoch=samples_per_epoch,\n",
    "        nb_epoch=epochs,\n",
    "        verbose=1,\n",
    "        callbacks = callbacks_list,\n",
    "        validation_data = feed_data_generator(val_features, val_labels, batch_size),\n",
    "        nb_val_samples = nb_val_samples) \n",
    "    return history\n",
    "    \n",
    "    \n",
    "def show_graph(history):\n",
    "    #print(history.history.keys())\n",
    "    plt.plot(history.history['loss'])\n",
    "    plt.title('model loss')\n",
    "    plt.ylabel('loss')\n",
    "    plt.xlabel('epoch')\n",
    "    plt.legend(['train', 'test'], loc='upper left')\n",
    "    plt.show()\n",
    "    \n",
    "def evaluate_model():\n",
    "    metrics = model.evaluate(val_features, val_labels, batch_size=32, verbose=1)\n",
    "    keys = model.metrics_names\n",
    "    #print(keys)\n",
    "    print(keys[0],\":\",metrics[0])\n",
    "    print(keys[1],\":\",metrics[1])\n",
    "\n",
    "model = get_model()\n",
    "history = train_model(epochs, batch_size, samples_per_epoch, nb_val_samples)\n",
    "#show_graph(history)\n",
    "\n",
    "evaluate_model()"
   ]
  },
  {
   "cell_type": "code",
   "execution_count": 12,
   "metadata": {
    "collapsed": false
   },
   "outputs": [
    {
     "name": "stdout",
     "output_type": "stream",
     "text": [
      "Data saved\n"
     ]
    }
   ],
   "source": [
    "# save arquitecture as model.json\n",
    "with open('./model.json', 'w') as outfile:\n",
    "        json.dump(model.to_json(), outfile)\n",
    "\n",
    "print(\"Data saved\")"
   ]
  },
  {
   "cell_type": "code",
   "execution_count": null,
   "metadata": {
    "collapsed": true
   },
   "outputs": [],
   "source": []
  }
 ],
 "metadata": {
  "anaconda-cloud": {},
  "kernelspec": {
   "display_name": "Python [default]",
   "language": "python",
   "name": "python3"
  },
  "language_info": {
   "codemirror_mode": {
    "name": "ipython",
    "version": 3
   },
   "file_extension": ".py",
   "mimetype": "text/x-python",
   "name": "python",
   "nbconvert_exporter": "python",
   "pygments_lexer": "ipython3",
   "version": "3.5.2"
  }
 },
 "nbformat": 4,
 "nbformat_minor": 1
}
